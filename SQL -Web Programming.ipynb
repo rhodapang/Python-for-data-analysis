{
 "cells": [
  {
   "cell_type": "code",
   "execution_count": null,
   "id": "78b343c0",
   "metadata": {},
   "outputs": [],
   "source": [
    "# Sql \n",
    "Create table flights(\n",
    "    id INTEGER PRIMARY KEY AUTOINCREMENT,\n",
    "    origin TEXT NOT NULL,\n",
    "    destination TEXT NOT NULL,\n",
    "    duration INTEGER NOT NULL\n",
    ");"
   ]
  },
  {
   "cell_type": "code",
   "execution_count": null,
   "id": "7937c526",
   "metadata": {},
   "outputs": [],
   "source": [
    "#INSERT\n",
    "INSERT INTO flights\n",
    "    (origin, destination, duration)\n",
    "    VALUES (\"New York\",\"London\", 415);"
   ]
  },
  {
   "cell_type": "code",
   "execution_count": null,
   "id": "dea62a11",
   "metadata": {},
   "outputs": [],
   "source": []
  }
 ],
 "metadata": {
  "kernelspec": {
   "display_name": "Python 3",
   "language": "python",
   "name": "python3"
  },
  "language_info": {
   "codemirror_mode": {
    "name": "ipython",
    "version": 3
   },
   "file_extension": ".py",
   "mimetype": "text/x-python",
   "name": "python",
   "nbconvert_exporter": "python",
   "pygments_lexer": "ipython3",
   "version": "3.8.8"
  }
 },
 "nbformat": 4,
 "nbformat_minor": 5
}
